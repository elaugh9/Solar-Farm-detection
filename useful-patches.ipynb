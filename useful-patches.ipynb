{
 "cells": [
  {
   "cell_type": "code",
   "execution_count": 2,
   "metadata": {},
   "outputs": [],
   "source": [
    "# Useful patches means patches with pv panels to augment \n",
    "from tensorflow.keras.utils import normalize\n",
    "import os\n",
    "import cv2\n",
    "from PIL import Image\n",
    "import numpy as np\n",
    "from matplotlib import pyplot as plt\n",
    "#from patchify import patchify, unpatchify\n",
    "import numpy as np\n",
    "from matplotlib import pyplot as plt\n",
    "import tifffile as tiff\n",
    "from tifffile import imread, imwrite\n",
    "from skimage.transform import resize\n",
    "import tensorflow as tf"
   ]
  },
  {
   "cell_type": "markdown",
   "metadata": {
    "heading_collapsed": true
   },
   "source": [
    "# Useful Pacthes"
   ]
  },
  {
   "cell_type": "code",
   "execution_count": 123,
   "metadata": {
    "hidden": true
   },
   "outputs": [],
   "source": [
    "image_directory='/home/gridsan/ealmahmoud/patches/patches_5k/images/'\n",
    "mask_directory='/home/gridsan/ealmahmoud/patches/patches_5k/masks/'\n",
    "images = os.listdir(image_directory)\n",
    "masks = os.listdir(mask_directory)\n"
   ]
  },
  {
   "cell_type": "code",
   "execution_count": 124,
   "metadata": {
    "hidden": true
   },
   "outputs": [
    {
     "data": {
      "text/plain": [
       "5000"
      ]
     },
     "execution_count": 124,
     "metadata": {},
     "output_type": "execute_result"
    }
   ],
   "source": [
    "len(masks)"
   ]
  },
  {
   "cell_type": "code",
   "execution_count": null,
   "metadata": {},
   "outputs": [],
   "source": [
    "all_mask_patches = []\n",
    "all_img_patches = []\n",
    "count=0\n",
    "for i, mask_name in enumerate(masks):    #Remember enumerate method adds a counter and returns the enumerate object\n",
    "    if (mask_name.split('.')[1] == 'tif'):\n",
    "        #print(\"Now preparing image and masks number: \", mask_name)\n",
    "        \n",
    "        \n",
    "        temp_image=tiff.imread(image_directory+mask_name)\n",
    "        temp_mask=tiff.imread(mask_directory+mask_name)\n",
    "\n",
    "        single_patch_img = (temp_image.astype('float32')) / 255.\n",
    "        single_patch_mask = (temp_mask.astype('float32')) / 255.\n",
    "\n",
    "\n",
    "        val, counts = np.unique(single_patch_mask, return_counts=True)\n",
    "        if (1 - (counts[0]/counts.sum())) > 0.25:\n",
    "            tiff.imwrite('/home/gridsan/ealmahmoud/patches/patches_useful/images/' + mask_name, temp_image)\n",
    "            tiff.imwrite('/home/gridsan/ealmahmoud/patches/patches_useful/masks/' + mask_name, temp_mask)\n",
    "            count = count + 1\n",
    "            print(str(count))\n",
    "        if (count ==1000):\n",
    "            print(\"break\")\n",
    "            break"
   ]
  },
  {
   "cell_type": "code",
   "execution_count": 126,
   "metadata": {
    "hidden": true
   },
   "outputs": [],
   "source": [
    "image_directory='/home/gridsan/ealmahmoud/patches/patches_useful/images/'\n",
    "mask_directory='/home/gridsan/ealmahmoud/patches/patches_useful/masks/'\n",
    "images = os.listdir(image_directory)\n",
    "masks = os.listdir(mask_directory)"
   ]
  },
  {
   "cell_type": "code",
   "execution_count": null,
   "metadata": {},
   "outputs": [],
   "source": [
    "import random\n",
    "import numpy as np\n",
    "for i in range(100):\n",
    "    plt.figure(figsize=(12, 6))\n",
    "    plt.subplot(121)\n",
    "    plt.imshow(images[i], cmap='gray')\n",
    "    plt.subplot(122)\n",
    "    plt.imshow(masks[i], cmap='gray', vmin=0, vmax=1)\n",
    "    plt.show()"
   ]
  }
 ],
 "metadata": {
  "kernelspec": {
   "display_name": "Python 3",
   "language": "python",
   "name": "python3"
  },
  "language_info": {
   "codemirror_mode": {
    "name": "ipython",
    "version": 3
   },
   "file_extension": ".py",
   "mimetype": "text/x-python",
   "name": "python",
   "nbconvert_exporter": "python",
   "pygments_lexer": "ipython3",
   "version": "3.8.5"
  },
  "latex_envs": {
   "LaTeX_envs_menu_present": true,
   "autoclose": false,
   "autocomplete": true,
   "bibliofile": "biblio.bib",
   "cite_by": "apalike",
   "current_citInitial": 1,
   "eqLabelWithNumbers": true,
   "eqNumInitial": 1,
   "hotkeys": {
    "equation": "Ctrl-E",
    "itemize": "Ctrl-I"
   },
   "labels_anchors": false,
   "latex_user_defs": false,
   "report_style_numbering": false,
   "user_envs_cfg": false
  },
  "toc": {
   "base_numbering": 1,
   "nav_menu": {},
   "number_sections": true,
   "sideBar": true,
   "skip_h1_title": false,
   "title_cell": "Table of Contents",
   "title_sidebar": "Contents",
   "toc_cell": false,
   "toc_position": {},
   "toc_section_display": true,
   "toc_window_display": false
  }
 },
 "nbformat": 4,
 "nbformat_minor": 4
}
